{
 "cells": [
  {
   "cell_type": "markdown",
   "id": "b5ec8b28",
   "metadata": {},
   "source": [
    "# Data Leakage with Credit Card Data\n",
    "\n",
    "Kaggle Intermediate Machine Learning Course: https://www.kaggle.com/code/alexisbcook/data-leakage\n",
    "\n",
    "There are two main types of leakage: **target leakage** and **train-test contamination**\n",
    "According to chatGPT's help to understand,\n",
    "- **target leakage** is a situation in machine learning where information from the future (data that would not be available at the time of prediction) is inadvertently used to train a model. This can lead to overly optimistic performance metrics during training but can result in poor generalization to new, unseen data.\n",
    "- **train-test contamination** is a situation in machine learning where information from the test set (or validation set) unintentionally influences the training process. This can lead to overly optimistic performance evaluations during model development but result in poor generalization to new, unseen data."
   ]
  },
  {
   "cell_type": "code",
   "execution_count": 34,
   "id": "500611f9",
   "metadata": {},
   "outputs": [
    {
     "name": "stdout",
     "output_type": "stream",
     "text": [
      "Number of rowsin the dataset: 1319\n"
     ]
    },
    {
     "data": {
      "text/html": [
       "<div>\n",
       "<style scoped>\n",
       "    .dataframe tbody tr th:only-of-type {\n",
       "        vertical-align: middle;\n",
       "    }\n",
       "\n",
       "    .dataframe tbody tr th {\n",
       "        vertical-align: top;\n",
       "    }\n",
       "\n",
       "    .dataframe thead th {\n",
       "        text-align: right;\n",
       "    }\n",
       "</style>\n",
       "<table border=\"1\" class=\"dataframe\">\n",
       "  <thead>\n",
       "    <tr style=\"text-align: right;\">\n",
       "      <th></th>\n",
       "      <th>reports</th>\n",
       "      <th>age</th>\n",
       "      <th>income</th>\n",
       "      <th>share</th>\n",
       "      <th>expenditure</th>\n",
       "      <th>owner</th>\n",
       "      <th>selfemp</th>\n",
       "      <th>dependents</th>\n",
       "      <th>months</th>\n",
       "      <th>majorcards</th>\n",
       "      <th>active</th>\n",
       "    </tr>\n",
       "  </thead>\n",
       "  <tbody>\n",
       "    <tr>\n",
       "      <th>0</th>\n",
       "      <td>0</td>\n",
       "      <td>37.66667</td>\n",
       "      <td>4.5200</td>\n",
       "      <td>0.033270</td>\n",
       "      <td>124.983300</td>\n",
       "      <td>yes</td>\n",
       "      <td>no</td>\n",
       "      <td>3</td>\n",
       "      <td>54</td>\n",
       "      <td>1</td>\n",
       "      <td>12</td>\n",
       "    </tr>\n",
       "    <tr>\n",
       "      <th>1</th>\n",
       "      <td>0</td>\n",
       "      <td>33.25000</td>\n",
       "      <td>2.4200</td>\n",
       "      <td>0.005217</td>\n",
       "      <td>9.854167</td>\n",
       "      <td>no</td>\n",
       "      <td>no</td>\n",
       "      <td>3</td>\n",
       "      <td>34</td>\n",
       "      <td>1</td>\n",
       "      <td>13</td>\n",
       "    </tr>\n",
       "    <tr>\n",
       "      <th>2</th>\n",
       "      <td>0</td>\n",
       "      <td>33.66667</td>\n",
       "      <td>4.5000</td>\n",
       "      <td>0.004156</td>\n",
       "      <td>15.000000</td>\n",
       "      <td>yes</td>\n",
       "      <td>no</td>\n",
       "      <td>4</td>\n",
       "      <td>58</td>\n",
       "      <td>1</td>\n",
       "      <td>5</td>\n",
       "    </tr>\n",
       "    <tr>\n",
       "      <th>3</th>\n",
       "      <td>0</td>\n",
       "      <td>30.50000</td>\n",
       "      <td>2.5400</td>\n",
       "      <td>0.065214</td>\n",
       "      <td>137.869200</td>\n",
       "      <td>no</td>\n",
       "      <td>no</td>\n",
       "      <td>0</td>\n",
       "      <td>25</td>\n",
       "      <td>1</td>\n",
       "      <td>7</td>\n",
       "    </tr>\n",
       "    <tr>\n",
       "      <th>4</th>\n",
       "      <td>0</td>\n",
       "      <td>32.16667</td>\n",
       "      <td>9.7867</td>\n",
       "      <td>0.067051</td>\n",
       "      <td>546.503300</td>\n",
       "      <td>yes</td>\n",
       "      <td>no</td>\n",
       "      <td>2</td>\n",
       "      <td>64</td>\n",
       "      <td>1</td>\n",
       "      <td>5</td>\n",
       "    </tr>\n",
       "  </tbody>\n",
       "</table>\n",
       "</div>"
      ],
      "text/plain": [
       "   reports       age  income     share  expenditure owner selfemp  dependents  \\\n",
       "0        0  37.66667  4.5200  0.033270   124.983300   yes      no           3   \n",
       "1        0  33.25000  2.4200  0.005217     9.854167    no      no           3   \n",
       "2        0  33.66667  4.5000  0.004156    15.000000   yes      no           4   \n",
       "3        0  30.50000  2.5400  0.065214   137.869200    no      no           0   \n",
       "4        0  32.16667  9.7867  0.067051   546.503300   yes      no           2   \n",
       "\n",
       "   months  majorcards  active  \n",
       "0      54           1      12  \n",
       "1      34           1      13  \n",
       "2      58           1       5  \n",
       "3      25           1       7  \n",
       "4      64           1       5  "
      ]
     },
     "execution_count": 34,
     "metadata": {},
     "output_type": "execute_result"
    }
   ],
   "source": [
    "import pandas as pd\n",
    "\n",
    "# Read the data\n",
    "data = pd.read_csv('AER_credit_card_data.csv')\n",
    "\n",
    "# Select target\n",
    "y = data.card\n",
    "\n",
    "# Select predictors\n",
    "X = data.drop(['card'], axis=1)\n",
    "\n",
    "print(\"Number of rowsin the dataset:\", X.shape[0])\n",
    "X.head()"
   ]
  },
  {
   "cell_type": "markdown",
   "id": "34adaa43",
   "metadata": {},
   "source": [
    "## Cross-Validation\n",
    "\n",
    "The code I implemented differs slightly from the examples provided in Kaggle courses. I encountered an error indicating the presence of categorical data in my dataset, leading me to incorporate one-hot encoding as a preprocessing step. Additionally, instead of using make_pipeline, which was introduced without a clear explanation in the course, I opted for the more familiar Pipeline class. This change resolved issues I encountered and aligned with my prior understanding of pipeline usage"
   ]
  },
  {
   "cell_type": "code",
   "execution_count": 35,
   "id": "f89ccd3d",
   "metadata": {},
   "outputs": [
    {
     "name": "stderr",
     "output_type": "stream",
     "text": [
      "C:\\Users\\soyou\\anaconda3\\envs\\myenv\\Lib\\site-packages\\sklearn\\preprocessing\\_encoders.py:868: FutureWarning: `sparse` was renamed to `sparse_output` in version 1.2 and will be removed in 1.4. `sparse_output` is ignored unless you leave `sparse` to its default value.\n",
      "  warnings.warn(\n",
      "C:\\Users\\soyou\\anaconda3\\envs\\myenv\\Lib\\site-packages\\sklearn\\preprocessing\\_encoders.py:868: FutureWarning: `sparse` was renamed to `sparse_output` in version 1.2 and will be removed in 1.4. `sparse_output` is ignored unless you leave `sparse` to its default value.\n",
      "  warnings.warn(\n",
      "C:\\Users\\soyou\\anaconda3\\envs\\myenv\\Lib\\site-packages\\sklearn\\preprocessing\\_encoders.py:868: FutureWarning: `sparse` was renamed to `sparse_output` in version 1.2 and will be removed in 1.4. `sparse_output` is ignored unless you leave `sparse` to its default value.\n",
      "  warnings.warn(\n",
      "C:\\Users\\soyou\\anaconda3\\envs\\myenv\\Lib\\site-packages\\sklearn\\preprocessing\\_encoders.py:868: FutureWarning: `sparse` was renamed to `sparse_output` in version 1.2 and will be removed in 1.4. `sparse_output` is ignored unless you leave `sparse` to its default value.\n",
      "  warnings.warn(\n",
      "C:\\Users\\soyou\\anaconda3\\envs\\myenv\\Lib\\site-packages\\sklearn\\preprocessing\\_encoders.py:868: FutureWarning: `sparse` was renamed to `sparse_output` in version 1.2 and will be removed in 1.4. `sparse_output` is ignored unless you leave `sparse` to its default value.\n",
      "  warnings.warn(\n"
     ]
    },
    {
     "name": "stdout",
     "output_type": "stream",
     "text": [
      "Cross-validation accuracy: 0.975743\n"
     ]
    }
   ],
   "source": [
    "from sklearn.pipeline import Pipeline\n",
    "from sklearn.ensemble import RandomForestClassifier\n",
    "from sklearn.model_selection import cross_val_score\n",
    "from sklearn.preprocessing import OneHotEncoder\n",
    "\n",
    "# Since there is no preprocessing, we don't need a pipeline (used anyway as best practice!)\n",
    "my_pipeline = Pipeline(steps=[\n",
    "    ('preprocessor', OneHotEncoder(handle_unknown='ignore', sparse=False)),\n",
    "    ('model', RandomForestClassifier(n_estimators=100))\n",
    "])\n",
    "\n",
    "cv_scores = cross_val_score(my_pipeline, X, y, \n",
    "                            cv=5,\n",
    "                            scoring='accuracy')\n",
    "\n",
    "print(\"Cross-validation accuracy: %f\" % cv_scores.mean())"
   ]
  },
  {
   "cell_type": "markdown",
   "id": "357ca929",
   "metadata": {},
   "source": [
    "With experience, you'll find that it's very rare to find models that are accurate 98% of the time. It happens, but it's uncommon enough that we should inspect the data more closely for target leakage.\n",
    "\n",
    "Here is a summary of the data, which you can also find under the data tab:\n",
    "\n",
    "- card: 1 if credit card application accepted, 0 if not\n",
    "- reports: Number of major derogatory reports\n",
    "- age: Age n years plus twelfths of a year\n",
    "- income: Yearly income (divided by 10,000)\n",
    "- share: Ratio of monthly credit card expenditure to yearly income\n",
    "- expenditure: Average monthly credit card expenditure\n",
    "- owner: 1 if owns home, 0 if rents\n",
    "- selfempl: 1 if self-employed, 0 if not\n",
    "- dependents: 1 + number of dependents\n",
    "- months: Months living at current address\n",
    "- majorcards: Number of major credit cards held\n",
    "- active: Number of active credit accounts\n",
    "\n",
    "A few variables look suspicious. For example, does expenditure mean expenditure on this card or on cards used before applying?\n",
    "\n",
    "At this point, basic data comparisons can be very helpful:"
   ]
  },
  {
   "cell_type": "markdown",
   "id": "c005da8e",
   "metadata": {},
   "source": [
    "Again, I got errors by following the Kaggle courses, so I changed a little bit. \n",
    "I investigated about y values first and then used that information to solve the problem. \n"
   ]
  },
  {
   "cell_type": "code",
   "execution_count": 38,
   "id": "75aefff9",
   "metadata": {},
   "outputs": [
    {
     "name": "stdout",
     "output_type": "stream",
     "text": [
      "['yes' 'no']\n",
      "RangeIndex(start=0, stop=1319, step=1)\n"
     ]
    }
   ],
   "source": [
    "print(y.unique()) # Confirm the uniqe values in 'y'\n",
    "print(X.index) # Check the DataFrame index\n",
    "y_boolean = (y == 'yes') # convert 'y' to boolean (boolean means either yes or no)"
   ]
  },
  {
   "cell_type": "markdown",
   "id": "8b626dbf",
   "metadata": {},
   "source": [
    "Since y contains 'yes' and 'no' strings, I convert it to boolean values. "
   ]
  },
  {
   "cell_type": "code",
   "execution_count": 39,
   "id": "e0c549de",
   "metadata": {},
   "outputs": [
    {
     "name": "stdout",
     "output_type": "stream",
     "text": [
      "Fraction of those who did not receive a card and had no expenditures: 1.00\n",
      "Fraction of those who received a card and had no expenditures: 0.02\n"
     ]
    }
   ],
   "source": [
    "expenditures_cardholders = X.expenditure[y_boolean]  # y = data.card defined above. card: 1 if credit card application accepted, 0 if not\n",
    "                                            # contains values where the condition is True (cardholders),\n",
    "expenditures_noncardholders = X.expenditure[~y_boolean]  # contains values where the condition is False (non-cardholders).\n",
    "\n",
    "print('Fraction of those who did not receive a card and had no expenditures: %.2f' \\\n",
    "      %((expenditures_noncardholders == 0).mean()))\n",
    "print('Fraction of those who received a card and had no expenditures: %.2f' \\\n",
    "      %(( expenditures_cardholders == 0).mean()))"
   ]
  },
  {
   "cell_type": "markdown",
   "id": "5985a692",
   "metadata": {},
   "source": [
    "As shown above, everyone who did not receive a card had no expenditures, while only 2% of those who received a card had no expenditures. It's not surprising that our model appeared to have a high accuracy. But this also seems to be a case of target leakage, where expenditures probably means expenditures on the card they applied for. \n",
    "\n",
    "Since `share` is partially determined by `expenditure`, it should be excluded too. The variables `active` and `majorcards` are a little less clear, but from the description, they sound concerning. In most situations, it's better to be safe than sorry if you can't track down the people who created the data to find out more. \n",
    "\n",
    "We would run a model without target leakage as follows:"
   ]
  },
  {
   "cell_type": "code",
   "execution_count": 40,
   "id": "05e30533",
   "metadata": {},
   "outputs": [
    {
     "name": "stderr",
     "output_type": "stream",
     "text": [
      "C:\\Users\\soyou\\anaconda3\\envs\\myenv\\Lib\\site-packages\\sklearn\\preprocessing\\_encoders.py:868: FutureWarning: `sparse` was renamed to `sparse_output` in version 1.2 and will be removed in 1.4. `sparse_output` is ignored unless you leave `sparse` to its default value.\n",
      "  warnings.warn(\n",
      "C:\\Users\\soyou\\anaconda3\\envs\\myenv\\Lib\\site-packages\\sklearn\\preprocessing\\_encoders.py:868: FutureWarning: `sparse` was renamed to `sparse_output` in version 1.2 and will be removed in 1.4. `sparse_output` is ignored unless you leave `sparse` to its default value.\n",
      "  warnings.warn(\n",
      "C:\\Users\\soyou\\anaconda3\\envs\\myenv\\Lib\\site-packages\\sklearn\\preprocessing\\_encoders.py:868: FutureWarning: `sparse` was renamed to `sparse_output` in version 1.2 and will be removed in 1.4. `sparse_output` is ignored unless you leave `sparse` to its default value.\n",
      "  warnings.warn(\n",
      "C:\\Users\\soyou\\anaconda3\\envs\\myenv\\Lib\\site-packages\\sklearn\\preprocessing\\_encoders.py:868: FutureWarning: `sparse` was renamed to `sparse_output` in version 1.2 and will be removed in 1.4. `sparse_output` is ignored unless you leave `sparse` to its default value.\n",
      "  warnings.warn(\n",
      "C:\\Users\\soyou\\anaconda3\\envs\\myenv\\Lib\\site-packages\\sklearn\\preprocessing\\_encoders.py:868: FutureWarning: `sparse` was renamed to `sparse_output` in version 1.2 and will be removed in 1.4. `sparse_output` is ignored unless you leave `sparse` to its default value.\n",
      "  warnings.warn(\n"
     ]
    },
    {
     "name": "stdout",
     "output_type": "stream",
     "text": [
      "Cross-val accuracy: 0.833207\n"
     ]
    }
   ],
   "source": [
    "# Drop leaky predictors from dataset\n",
    "potential_leaks = ['expenditure', 'share', 'active', 'majorcards']\n",
    "X2 = X.drop(potential_leaks, axis =1)\n",
    "\n",
    "# Evaluate the model with leaky predictors removed\n",
    "cv_scores = cross_val_score(my_pipeline, X2, y,\n",
    "                           cv =5, \n",
    "                           scoring = 'accuracy')\n",
    "\n",
    "print(\"Cross-val accuracy: %f\" % cv_scores.mean())"
   ]
  },
  {
   "cell_type": "markdown",
   "id": "42c89d47",
   "metadata": {},
   "source": [
    "This accuracy is quite a bit lower, which might be disappoining. However, we can expect it to be right about 80% of the time when used on new application, whereas the leaky model would likely do much worse than that in spite of its higher apparent score in corss-validation."
   ]
  },
  {
   "cell_type": "code",
   "execution_count": null,
   "id": "96352669",
   "metadata": {},
   "outputs": [],
   "source": []
  }
 ],
 "metadata": {
  "kernelspec": {
   "display_name": "Python 3 (ipykernel)",
   "language": "python",
   "name": "python3"
  },
  "language_info": {
   "codemirror_mode": {
    "name": "ipython",
    "version": 3
   },
   "file_extension": ".py",
   "mimetype": "text/x-python",
   "name": "python",
   "nbconvert_exporter": "python",
   "pygments_lexer": "ipython3",
   "version": "3.11.5"
  }
 },
 "nbformat": 4,
 "nbformat_minor": 5
}
